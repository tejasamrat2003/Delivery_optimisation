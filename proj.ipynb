{
 "cells": [
  {
   "cell_type": "code",
   "execution_count": 2,
   "metadata": {},
   "outputs": [],
   "source": [
    "import pandas as pd\n",
    "import numpy as np\n",
    "import random\n",
    "import requests\n",
    "import torch\n",
    "import torch.nn as nn\n",
    "import torch_geometric\n",
    "from torch_geometric.data import Data\n",
    "from sklearn.cluster import KMeans\n",
    "from geopy.distance import great_circle\n",
    "import networkx as nx\n",
    "import matplotlib.pyplot as plt"
   ]
  },
  {
   "cell_type": "code",
   "execution_count": 3,
   "metadata": {},
   "outputs": [
    {
     "name": "stdout",
     "output_type": "stream",
     "text": [
      "   customer_id   latitude  longitude preferred_time_slot\n",
      "0            1  28.639051  77.211505              1-3 PM\n",
      "1            2  28.609940  77.167498              2-4 PM\n",
      "2            3  28.686994  77.220418              1-3 PM\n",
      "3            4  28.581198  77.243806             9-11 AM\n",
      "4            5  28.662746  77.165564             9-11 AM\n"
     ]
    }
   ],
   "source": [
    "def generate_random_customers(center_lat, center_lon, radius_km, num_customers):\n",
    "    \"\"\"Generate a DataFrame of random customer data within a certain radius.\"\"\"\n",
    "    \n",
    "    def random_coordinates(center_lat, center_lon, radius_km):\n",
    "        radius_in_degrees = radius_km / 111  # Approx. 111 km per degree latitude\n",
    "        lat = center_lat + random.uniform(-radius_in_degrees, radius_in_degrees)\n",
    "        lon = center_lon + random.uniform(-radius_in_degrees, radius_in_degrees)\n",
    "        return lat, lon\n",
    "\n",
    "    time_slots = ['9-11 AM', '10-12 AM', '1-3 PM', '2-4 PM', '4-6 PM']\n",
    "    \n",
    "    customer_data = {\n",
    "        'customer_id': [i for i in range(1, num_customers + 1)],\n",
    "        'latitude': [],\n",
    "        'longitude': [],\n",
    "        'preferred_time_slot': [random.choice(time_slots) for _ in range(num_customers)]\n",
    "    }\n",
    "\n",
    "    for _ in range(num_customers):\n",
    "        lat, lon = random_coordinates(center_lat, center_lon, radius_km)\n",
    "        customer_data['latitude'].append(lat)\n",
    "        customer_data['longitude'].append(lon)\n",
    "\n",
    "    return pd.DataFrame(customer_data)\n",
    "\n",
    "# Define center point and radius\n",
    "center_latitude = 28.6139  # Example: New Delhi\n",
    "center_longitude = 77.2090\n",
    "radius_kilometers = 10  # Radius in kilometers\n",
    "num_customers = 100\n",
    "\n",
    "# Generate random customer data\n",
    "customers_df = generate_random_customers(center_latitude, center_longitude, radius_kilometers, num_customers)\n",
    "print(customers_df.head())\n"
   ]
  },
  {
   "cell_type": "code",
   "execution_count": 6,
   "metadata": {},
   "outputs": [
    {
     "name": "stdout",
     "output_type": "stream",
     "text": [
      "Time slot: 1-3 PM, Clusters:\n",
      "    customer_id   latitude  longitude preferred_time_slot  time_slot_numeric  \\\n",
      "0             1  28.639051  77.211505              1-3 PM                  0   \n",
      "2             3  28.686994  77.220418              1-3 PM                  0   \n",
      "7             8  28.662330  77.131113              1-3 PM                  0   \n",
      "12           13  28.595811  77.140680              1-3 PM                  0   \n",
      "13           14  28.593805  77.240201              1-3 PM                  0   \n",
      "\n",
      "    cluster  \n",
      "0         2  \n",
      "2         3  \n",
      "7         0  \n",
      "12        0  \n",
      "13        2  \n",
      "Time slot: 2-4 PM, Clusters:\n",
      "    customer_id   latitude  longitude preferred_time_slot  time_slot_numeric  \\\n",
      "1             2  28.609940  77.167498              2-4 PM                  2   \n",
      "11           12  28.644088  77.298739              2-4 PM                  2   \n",
      "14           15  28.700556  77.246299              2-4 PM                  2   \n",
      "17           18  28.619390  77.224351              2-4 PM                  2   \n",
      "24           25  28.581768  77.152418              2-4 PM                  2   \n",
      "\n",
      "    cluster  \n",
      "1         0  \n",
      "11        1  \n",
      "14        1  \n",
      "17        2  \n",
      "24        0  \n",
      "Time slot: 9-11 AM, Clusters:\n",
      "    customer_id   latitude  longitude preferred_time_slot  time_slot_numeric  \\\n",
      "3             4  28.581198  77.243806             9-11 AM                  4   \n",
      "4             5  28.662746  77.165564             9-11 AM                  4   \n",
      "6             7  28.615594  77.139620             9-11 AM                  4   \n",
      "20           21  28.572273  77.297036             9-11 AM                  4   \n",
      "38           39  28.543573  77.279729             9-11 AM                  4   \n",
      "\n",
      "    cluster  \n",
      "3         0  \n",
      "4         4  \n",
      "6         2  \n",
      "20        0  \n",
      "38        0  \n",
      "Time slot: 10-12 AM, Clusters:\n",
      "    customer_id   latitude  longitude preferred_time_slot  time_slot_numeric  \\\n",
      "5             6  28.574265  77.245549            10-12 AM                  1   \n",
      "8             9  28.579406  77.247225            10-12 AM                  1   \n",
      "10           11  28.686662  77.262558            10-12 AM                  1   \n",
      "18           19  28.563273  77.227033            10-12 AM                  1   \n",
      "19           20  28.574400  77.244576            10-12 AM                  1   \n",
      "\n",
      "    cluster  \n",
      "5         2  \n",
      "8         2  \n",
      "10        1  \n",
      "18        2  \n",
      "19        2  \n",
      "Time slot: 4-6 PM, Clusters:\n",
      "    customer_id   latitude  longitude preferred_time_slot  time_slot_numeric  \\\n",
      "9            10  28.644588  77.215353              4-6 PM                  3   \n",
      "16           17  28.606649  77.157053              4-6 PM                  3   \n",
      "22           23  28.674214  77.267490              4-6 PM                  3   \n",
      "23           24  28.540307  77.262681              4-6 PM                  3   \n",
      "29           30  28.639452  77.193309              4-6 PM                  3   \n",
      "\n",
      "    cluster  \n",
      "9         1  \n",
      "16        0  \n",
      "22        4  \n",
      "23        3  \n",
      "29        1  \n"
     ]
    }
   ],
   "source": [
    "from sklearn.cluster import KMeans\n",
    "import matplotlib.pyplot as plt\n",
    "\n",
    "# Cluster customers based on timeslots and geographic coordinates\n",
    "def cluster_customers(customers_df, num_clusters=5):\n",
    "    clusters = {}\n",
    "    for time_slot in customers_df['preferred_time_slot'].unique():\n",
    "        slot_customers = customers_df[customers_df['preferred_time_slot'] == time_slot]\n",
    "        kmeans = KMeans(n_clusters=min(num_clusters, len(slot_customers)), random_state=0)\n",
    "        slot_customers.loc[:, 'cluster'] = kmeans.fit_predict(slot_customers[['latitude', 'longitude']])\n",
    "\n",
    "        clusters[time_slot] = slot_customers\n",
    "    \n",
    "    return clusters\n",
    "\n",
    "# Cluster customers\n",
    "clustered_customers = cluster_customers(customers_df)\n",
    "for slot, df in clustered_customers.items():\n",
    "    print(f\"Time slot: {slot}, Clusters:\\n{df.head()}\")\n"
   ]
  },
  {
   "cell_type": "code",
   "execution_count": 8,
   "metadata": {},
   "outputs": [
    {
     "name": "stdout",
     "output_type": "stream",
     "text": [
      "    customer_id   latitude  longitude preferred_time_slot  time_slot_numeric  \\\n",
      "3             4  28.581198  77.243806             9-11 AM                  4   \n",
      "4             5  28.662746  77.165564             9-11 AM                  4   \n",
      "6             7  28.615594  77.139620             9-11 AM                  4   \n",
      "20           21  28.572273  77.297036             9-11 AM                  4   \n",
      "38           39  28.543573  77.279729             9-11 AM                  4   \n",
      "\n",
      "    cluster delivery_personnel  \n",
      "3         0        Personnel_0  \n",
      "4         4        Personnel_4  \n",
      "6         2        Personnel_2  \n",
      "20        0        Personnel_0  \n",
      "38        0        Personnel_0  \n"
     ]
    }
   ],
   "source": [
    "# Assign delivery personnel to each cluster\n",
    "def assign_delivery_personnel(clustered_customers):\n",
    "    personnel_assigned = {}\n",
    "    for time_slot, df in clustered_customers.items():\n",
    "        df.loc[:,'delivery_personnel']= [f\"Personnel_{cluster}\" for cluster in df['cluster']]\n",
    "        personnel_assigned[time_slot] = df\n",
    "    return personnel_assigned\n",
    "\n",
    "# Assign delivery personnel to clusters\n",
    "clustered_customers_with_personnel = assign_delivery_personnel(clustered_customers)\n",
    "print(clustered_customers_with_personnel['9-11 AM'].head())\n"
   ]
  },
  {
   "cell_type": "code",
   "execution_count": 9,
   "metadata": {},
   "outputs": [],
   "source": [
    "import networkx as nx\n",
    "import requests\n",
    "\n",
    "HERE_API_KEY = 'Ur5mcEt5nP9kQNySgZFeILZ6HyxBJmJOMHabtjorKVQ'\n",
    "\n",
    "def get_distance_data(origin, destination):\n",
    "    url = f\"https://router.hereapi.com/v8/routes?transportMode=car&origin={origin}&destination={destination}&return=summary&apiKey={HERE_API_KEY}\"\n",
    "    try:\n",
    "        response = requests.get(url)\n",
    "        response.raise_for_status()\n",
    "        return response.json()\n",
    "    except Exception as e:\n",
    "        print(f\"Error: {e}\")\n",
    "        return None\n",
    "\n",
    "# Create a graph for a chosen cluster\n",
    "def create_graph_for_cluster(df):\n",
    "    G = nx.Graph()\n",
    "    for index, row in df.iterrows():\n",
    "        G.add_node(f\"Customer {row['customer_id']}\", pos=(row['latitude'], row['longitude']))\n",
    "    \n",
    "    # Limit API calls to 150\n",
    "    api_call_count = 0\n",
    "    api_call_limit = 150\n",
    "    \n",
    "    for index_a, row_a in df.iterrows():\n",
    "        for index_b, row_b in df.iterrows():\n",
    "            if index_a != index_b and api_call_count < api_call_limit:\n",
    "                origin = f\"{row_a['latitude']},{row_a['longitude']}\"\n",
    "                destination = f\"{row_b['latitude']},{row_b['longitude']}\"\n",
    "                travel_data = get_distance_data(origin, destination)\n",
    "                \n",
    "                if travel_data and 'routes' in travel_data and travel_data['routes']:\n",
    "                    distance = travel_data['routes'][0]['sections'][0]['summary']['length'] / 1000\n",
    "                    G.add_edge(f\"Customer {row_a['customer_id']}\", f\"Customer {row_b['customer_id']}\", weight=distance)\n",
    "                    api_call_count += 1\n",
    "    \n",
    "    return G\n",
    "\n",
    "# Choose a cluster (e.g., from the '9-11 AM' timeslot)\n",
    "chosen_cluster = clustered_customers_with_personnel['9-11 AM'][clustered_customers_with_personnel['9-11 AM']['cluster'] == 0]\n",
    "G = create_graph_for_cluster(chosen_cluster)\n"
   ]
  },
  {
   "cell_type": "code",
   "execution_count": 23,
   "metadata": {},
   "outputs": [
    {
     "name": "stdout",
     "output_type": "stream",
     "text": [
      "['Customer 4', 'Customer 21', 'Customer 39', 'Customer 57', 'Customer 59']\n"
     ]
    }
   ],
   "source": [
    "print(G.nodes())"
   ]
  },
  {
   "cell_type": "code",
   "execution_count": 24,
   "metadata": {},
   "outputs": [],
   "source": [
    "# Step 5: Create and train the GNN model\n",
    "class GNN(nn.Module):\n",
    "    def __init__(self, in_channels, hidden_channels):\n",
    "        super(GNN, self).__init__()\n",
    "        self.conv1 = torch_geometric.nn.GCNConv(in_channels, hidden_channels)\n",
    "        self.conv2 = torch_geometric.nn.GCNConv(hidden_channels, hidden_channels)\n",
    "\n",
    "    def forward(self, x, edge_index, edge_weight=None):\n",
    "        x = self.conv1(x, edge_index, edge_weight)\n",
    "        x = torch.relu(x)\n",
    "        x = self.conv2(x, edge_index, edge_weight)\n",
    "        return x\n"
   ]
  },
  {
   "cell_type": "code",
   "execution_count": 25,
   "metadata": {},
   "outputs": [],
   "source": [
    "def create_graph_data(G):\n",
    "    node_indices = {node: idx for idx, node in enumerate(G.nodes)}\n",
    "    edge_index = []\n",
    "    edge_attr = []\n",
    "\n",
    "    for u, v, data in G.edges(data=True):\n",
    "        edge_index.append([node_indices[u], node_indices[v]])\n",
    "        edge_attr.append(data['weight'])\n",
    "\n",
    "    edge_index = torch.tensor(edge_index, dtype=torch.long).t().contiguous()\n",
    "    edge_attr = torch.tensor(edge_attr, dtype=torch.float).view(-1, 1)\n",
    "\n",
    "    num_nodes = len(G.nodes)\n",
    "    x = torch.ones((num_nodes, 1))  # Dummy node features\n",
    "\n",
    "    return Data(x=x, edge_index=edge_index, edge_attr=edge_attr), node_indices\n",
    "\n",
    "graph_data, node_indices = create_graph_data(G)\n"
   ]
  },
  {
   "cell_type": "code",
   "execution_count": 26,
   "metadata": {},
   "outputs": [
    {
     "name": "stdout",
     "output_type": "stream",
     "text": [
      "Training completed.\n"
     ]
    }
   ],
   "source": [
    "device = torch.device('cuda' if torch.cuda.is_available() else 'cpu')\n",
    "model = GNN(in_channels=1, hidden_channels=16).to(device)\n",
    "optimizer = torch.optim.Adam(model.parameters(), lr=0.01)\n",
    "graph_data = graph_data.to(device)\n",
    "\n",
    "model.train()\n",
    "for epoch in range(100):\n",
    "    optimizer.zero_grad()\n",
    "    out = model(graph_data.x, graph_data.edge_index, graph_data.edge_attr)\n",
    "    loss = torch.mean(out)  # Simplified loss for demonstration\n",
    "    loss.backward()\n",
    "    optimizer.step()\n",
    "\n",
    "print(\"Training completed.\")"
   ]
  },
  {
   "cell_type": "code",
   "execution_count": 18,
   "metadata": {},
   "outputs": [
    {
     "name": "stdout",
     "output_type": "stream",
     "text": [
      "Predictions: tensor([[-50.3874, -51.4728, -54.2789, -48.1290, -47.8826, -51.8617, -55.0769,\n",
      "         -52.7954, -48.5185, -49.0359, -51.2197, -53.3025, -48.9000, -48.2835,\n",
      "         -51.8088, -47.2835],\n",
      "        [-63.4501, -64.8237, -68.3630, -60.5800, -60.2793, -65.3029, -69.3811,\n",
      "         -66.4888, -61.0933, -61.7424, -64.4894, -67.1386, -61.5554, -60.7903,\n",
      "         -65.2489, -59.5190],\n",
      "        [-71.3625, -72.9109, -76.8921, -68.1184, -67.7875, -73.4418, -78.0457,\n",
      "         -74.7817, -68.7117, -69.4393, -72.5240, -75.5199, -69.2178, -68.3660,\n",
      "         -73.3901, -66.9289],\n",
      "        [-76.9665, -78.6387, -82.9320, -73.4560, -73.1048, -79.2050, -84.1825,\n",
      "         -80.6545, -74.1081, -74.8907, -78.2131, -81.4562, -74.6432, -73.7315,\n",
      "         -79.1562, -72.1763],\n",
      "        [-81.2612, -83.0285, -87.5605, -77.5459, -77.1797, -83.6212, -88.8857,\n",
      "         -85.1550, -78.2442, -79.0687, -82.5725, -86.0059, -78.8004, -77.8436,\n",
      "         -83.5754, -76.1975],\n",
      "        [-50.3874, -51.4728, -54.2789, -48.1290, -47.8826, -51.8617, -55.0769,\n",
      "         -52.7954, -48.5185, -49.0359, -51.2197, -53.3025, -48.9000, -48.2835,\n",
      "         -51.8088, -47.2835],\n",
      "        [-50.3874, -51.4728, -54.2789, -48.1290, -47.8826, -51.8617, -55.0769,\n",
      "         -52.7954, -48.5185, -49.0359, -51.2197, -53.3025, -48.9000, -48.2835,\n",
      "         -51.8088, -47.2835],\n",
      "        [-50.3874, -51.4728, -54.2789, -48.1290, -47.8826, -51.8617, -55.0769,\n",
      "         -52.7954, -48.5185, -49.0359, -51.2197, -53.3025, -48.9000, -48.2835,\n",
      "         -51.8088, -47.2835],\n",
      "        [-50.3874, -51.4728, -54.2789, -48.1290, -47.8826, -51.8617, -55.0769,\n",
      "         -52.7954, -48.5185, -49.0359, -51.2197, -53.3025, -48.9000, -48.2835,\n",
      "         -51.8088, -47.2835],\n",
      "        [-50.3874, -51.4728, -54.2789, -48.1290, -47.8826, -51.8617, -55.0769,\n",
      "         -52.7954, -48.5185, -49.0359, -51.2197, -53.3025, -48.9000, -48.2835,\n",
      "         -51.8088, -47.2835]])\n"
     ]
    }
   ],
   "source": [
    "# Use the model to predict optimal routes\n",
    "model.eval()\n",
    "with torch.no_grad():\n",
    "    predictions = model(graph_data.x.to(device), graph_data.edge_index.to(device))\n",
    "\n",
    "# Define your routing logic based on predictions\n",
    "print(\"Predictions:\", predictions)\n"
   ]
  },
  {
   "cell_type": "code",
   "execution_count": 29,
   "metadata": {},
   "outputs": [
    {
     "name": "stdout",
     "output_type": "stream",
     "text": [
      "Optimal Path: ['Customer 59', 'Customer 39', 'Customer 21', 'Customer 57', 'Customer 4']\n"
     ]
    }
   ],
   "source": [
    "# Step 6: Predict the optimal path using the GNN\n",
    "model.eval()\n",
    "with torch.no_grad():\n",
    "    predictions = model(graph_data.x, graph_data.edge_index, graph_data.edge_attr)\n",
    "    # Get the predicted order of nodes based on the output of the model\n",
    "    predicted_node_indices = predictions.squeeze().tolist()  # Convert to list\n",
    "    sorted_indices = sorted(range(len(predicted_node_indices)), key=lambda x: predicted_node_indices[x])\n",
    "\n",
    "    # Create the optimal path using the sorted indices\n",
    "    optimal_path = [list(node_indices.keys())[i] for i in sorted_indices]\n",
    "\n",
    "# Print the optimal path to verify\n",
    "print(\"Optimal Path:\", optimal_path)\n"
   ]
  },
  {
   "cell_type": "code",
   "execution_count": 33,
   "metadata": {},
   "outputs": [
    {
     "name": "stdout",
     "output_type": "stream",
     "text": [
      "Optimal Path: ['Customer 59', 'Customer 39', 'Customer 21', 'Customer 57', 'Customer 4']\n",
      "Optimal path coordinates: [(np.float64(28.555191883063227), np.float64(77.26688686790241)), (np.float64(28.543572908185432), np.float64(77.27972881017442)), (np.float64(28.57227317968677), np.float64(77.29703567028143)), (np.float64(28.57825763132612), np.float64(77.28433675918782)), (np.float64(28.581198470552625), np.float64(77.24380571304326))]\n",
      "Map saved as 'optimal_route_map.html'.\n"
     ]
    }
   ],
   "source": [
    "import folium\n",
    "\n",
    "def visualize_route(customers, optimal_path):\n",
    "    \"\"\"Visualize the optimal path on a map using Folium.\"\"\"\n",
    "    m = folium.Map(location=[customers['latitude'].mean(), customers['longitude'].mean()], zoom_start=13)\n",
    "\n",
    "    # Add markers for customers\n",
    "    for _, customer in customers.iterrows():\n",
    "        folium.Marker([customer['latitude'], customer['longitude']], tooltip=f\"Customer {customer['customer_id']}\").add_to(m)\n",
    "\n",
    "    # Prepare path coordinates\n",
    "    path_coords = []\n",
    "    for id in optimal_path:\n",
    "        # Extract the customer ID from the optimal path\n",
    "        customer_id = int(id.split()[1])  # Assuming id is formatted as 'Customer 1'\n",
    "        \n",
    "        # Locate customer coordinates in the DataFrame\n",
    "        customer_row = customers[customers['customer_id'] == customer_id]\n",
    "        \n",
    "        if not customer_row.empty:  # Check if customer exists\n",
    "            path_coords.append((customer_row.iloc[0]['latitude'], customer_row.iloc[0]['longitude']))\n",
    "        else:\n",
    "            print(f\"Customer ID {customer_id} not found in customer DataFrame.\")\n",
    "\n",
    "    # Check if path_coords is not empty and visualize\n",
    "    if path_coords:\n",
    "        folium.PolyLine(locations=path_coords, color='blue').add_to(m)\n",
    "        print(\"Optimal path coordinates:\", path_coords)\n",
    "    else:\n",
    "        print(\"No valid coordinates found for the optimal path.\")\n",
    "\n",
    "    return m\n",
    "\n",
    "# Sample usage: Assuming optimal_path is already defined and contains valid customer IDs\n",
    "if 'optimal_path' in locals():\n",
    "    print(\"Optimal Path:\", optimal_path)  # Debugging output\n",
    "    route_map = visualize_route(customers_df, optimal_path)\n",
    "    route_map.save('optimal_route_map.html')\n",
    "    print(\"Map saved as 'optimal_route_map.html'.\")\n",
    "else:\n",
    "    print(\"Optimal path is not defined.\")\n"
   ]
  },
  {
   "cell_type": "code",
   "execution_count": null,
   "metadata": {},
   "outputs": [],
   "source": []
  },
  {
   "cell_type": "code",
   "execution_count": null,
   "metadata": {},
   "outputs": [],
   "source": []
  }
 ],
 "metadata": {
  "kernelspec": {
   "display_name": "Python 3",
   "language": "python",
   "name": "python3"
  },
  "language_info": {
   "codemirror_mode": {
    "name": "ipython",
    "version": 3
   },
   "file_extension": ".py",
   "mimetype": "text/x-python",
   "name": "python",
   "nbconvert_exporter": "python",
   "pygments_lexer": "ipython3",
   "version": "3.12.7"
  }
 },
 "nbformat": 4,
 "nbformat_minor": 2
}
